{
 "cells": [
  {
   "cell_type": "code",
   "execution_count": 11,
   "metadata": {},
   "outputs": [],
   "source": [
    "import pandas as pd\n",
    "import matplotlib.pyplot as plt\n",
    "import seaborn as sns\n",
    "import sklearn\n",
    "import numpy as np\n",
    "from random import randrange"
   ]
  },
  {
   "cell_type": "code",
   "execution_count": 12,
   "metadata": {},
   "outputs": [],
   "source": [
    "df=pd.read_csv('W100MTimes.txt',delimiter='\\t', header=None, names=['Year','Seconds'])"
   ]
  },
  {
   "cell_type": "code",
   "execution_count": 13,
   "metadata": {},
   "outputs": [],
   "source": [
    "no_of_rows=df.iat[0, 0]\n",
    "no_of_cols=df.iat[0, 1]"
   ]
  },
  {
   "cell_type": "code",
   "execution_count": 14,
   "metadata": {},
   "outputs": [],
   "source": [
    "df = df.iloc[1: , :]"
   ]
  },
  {
   "cell_type": "code",
   "execution_count": 15,
   "metadata": {},
   "outputs": [],
   "source": [
    "x = df.iloc[:, 0].values\n",
    "y = df.iloc[:, 1].values"
   ]
  },
  {
   "cell_type": "code",
   "execution_count": 23,
   "metadata": {},
   "outputs": [],
   "source": [
    "def cross_validation_split(dataset, folds):\n",
    "        dataset_split = []\n",
    "        df_copy = dataset\n",
    "        fold_size = int(df_copy.shape[0] / folds)\n",
    "        \n",
    "        # for loop to save each fold\n",
    "        for i in range(folds):\n",
    "            fold = []\n",
    "            # while loop to add elements to the folds\n",
    "            while len(fold) <fold_size+1:\n",
    "                # select a random element\n",
    "                r = randrange(df_copy.shape[0])\n",
    "                # determine the index of this element \n",
    "                index = df_copy.index[r]\n",
    "                # save the randomly selected line \n",
    "                fold.append(df_copy.loc[index].values.tolist())\n",
    "                # delete the randomly selected line from\n",
    "                # dataframe not to select again\n",
    "                df_copy = df_copy.drop(index)\n",
    "                if df_copy.empty:\n",
    "                    break\n",
    "            # save the fold     \n",
    "            dataset_split.append(np.asarray(fold))\n",
    "            \n",
    "        return dataset_split \n",
    "folds = cross_validation_split(df,5)"
   ]
  },
  {
   "cell_type": "code",
   "execution_count": 24,
   "metadata": {},
   "outputs": [],
   "source": [
    "folds=np.array(folds,dtype=object)"
   ]
  },
  {
   "cell_type": "code",
   "execution_count": 25,
   "metadata": {},
   "outputs": [],
   "source": [
    "K=[]\n",
    "K.append(pd.DataFrame(np.array(folds[0])))\n",
    "K.append(pd.DataFrame(np.array(folds[1])))\n",
    "K.append(pd.DataFrame(np.array(folds[2])))\n",
    "K.append(pd.DataFrame(np.array(folds[3])))\n",
    "K.append(pd.DataFrame(np.array(folds[4])))"
   ]
  },
  {
   "cell_type": "code",
   "execution_count": 26,
   "metadata": {},
   "outputs": [
    {
     "name": "stdout",
     "output_type": "stream",
     "text": [
      "Linear errors\n",
      "[0.012800881057268652, 0.043803791469194546, 0.006087499999999997, 0.07920833333333319, 0.0017357142857142803]\n",
      "Quadratic errors\n",
      "[0.0006233889559776167, 0.019964002779708286, 0.001531249999999997, 0.000680739599383673, 5.5746170635618165e-28]\n",
      "Cubic errors\n",
      "[4.5232642172595967e-23, 6.094410382962842e-22, 7.015008708550265e-25, 3.5202235846349e-22, 1.0518145402946823e-30]\n"
     ]
    }
   ],
   "source": [
    "from sklearn.linear_model import LinearRegression\n",
    "from sklearn.preprocessing import PolynomialFeatures\n",
    "from sklearn.metrics import mean_squared_error\n",
    "from sklearn.metrics import r2_score\n",
    "errors=[]\n",
    "r2_score_linear=[]\n",
    "quadratic_errors=[]\n",
    "r2_score_quadratic=[]\n",
    "cubic_errors=[]\n",
    "r2_score_cubic=[]\n",
    "for i in range(5):\n",
    "    train_set= pd.DataFrame()\n",
    "    test_set=K[i]\n",
    "    for j in range(5):\n",
    "        if j!=i:\n",
    "            train_set=train_set.append(K[i], ignore_index = True)\n",
    "            \n",
    "    #linear\n",
    "    lr=LinearRegression()\n",
    "    X_train=pd.DataFrame(train_set.iloc[:,0].values)\n",
    "    Y_train=pd.DataFrame(train_set.iloc[:,1].values)\n",
    "    X_test=pd.DataFrame(test_set.iloc[:,0].values)\n",
    "    Y_test=pd.DataFrame(test_set.iloc[:,1].values)\n",
    "   \n",
    " \n",
    "    lr.fit(X_train,Y_train)\n",
    "    Y_pred_linear=lr.predict(X_test)\n",
    "    \n",
    "    mse=mean_squared_error(Y_test,Y_pred_linear)\n",
    "    errors.append(mse)\n",
    "    #r2=r2_score(Y_test,Y_pred_linear)\n",
    "    #r2_score_linear.append(r2)\n",
    "\n",
    "    \n",
    "    #quadratic\n",
    "    poly_reg=PolynomialFeatures(degree=2)\n",
    "    X_train_poly=poly_reg.fit_transform(X_train)\n",
    "    X_test_poly=poly_reg.fit_transform(X_test)\n",
    "    lr2=LinearRegression()\n",
    "    lr2.fit(X_train_poly,Y_train)\n",
    "    Y_pred_quadratic=lr2.predict(X_test_poly)\n",
    "    \n",
    "    mse=mean_squared_error(Y_test,Y_pred_quadratic)\n",
    "    quadratic_errors.append(mse)\n",
    "    #r2=r2_score(Y_test,Y_pred_quadratic)\n",
    "    #r2_score_quadratic.append(r2)\n",
    "    \n",
    "    #cubic\n",
    "    poly_reg=PolynomialFeatures(degree=3)\n",
    "    X_train_poly=poly_reg.fit_transform(X_train)\n",
    "    X_test_poly=poly_reg.fit_transform(X_test)\n",
    "    lr3=LinearRegression()\n",
    "    lr3.fit(X_train_poly,Y_train)\n",
    "    Y_pred_cubic=lr3.predict(X_test_poly)\n",
    "    \n",
    "    mse=mean_squared_error(Y_test,Y_pred_cubic)\n",
    "    cubic_errors.append(mse)\n",
    "    #r2=r2_score(Y_test,Y_pred_cubic)\n",
    "    #r2_score_cubic.append(r2)\n",
    "    \n",
    "    \n",
    "print('Linear errors')           \n",
    "print(errors) \n",
    "print('Quadratic errors')    \n",
    "print(quadratic_errors)\n",
    "print('Cubic errors')    \n",
    "print(cubic_errors)"
   ]
  },
  {
   "cell_type": "code",
   "execution_count": 27,
   "metadata": {},
   "outputs": [
    {
     "name": "stdout",
     "output_type": "stream",
     "text": [
      "Enter year in +1900 i.e., if 2010, input 110\n",
      "Enter a year to predict the time taken to complete women's 100m race:122\n"
     ]
    },
    {
     "data": {
      "text/plain": [
       "array([[10.16960149]])"
      ]
     },
     "execution_count": 27,
     "metadata": {},
     "output_type": "execute_result"
    }
   ],
   "source": [
    "print(\"Enter year in +1900 i.e., if 2010, input 110\")\n",
    "a=int(input(\"Enter a year to predict the time taken to complete women's 100m race:\"))\n",
    "poly_reg=PolynomialFeatures(degree=3)\n",
    "lr3.predict(poly_reg.fit_transform([[a]]))"
   ]
  },
  {
   "cell_type": "code",
   "execution_count": null,
   "metadata": {},
   "outputs": [],
   "source": []
  },
  {
   "cell_type": "code",
   "execution_count": null,
   "metadata": {},
   "outputs": [],
   "source": []
  }
 ],
 "metadata": {
  "kernelspec": {
   "display_name": "Python 3 (ipykernel)",
   "language": "python",
   "name": "python3"
  },
  "language_info": {
   "codemirror_mode": {
    "name": "ipython",
    "version": 3
   },
   "file_extension": ".py",
   "mimetype": "text/x-python",
   "name": "python",
   "nbconvert_exporter": "python",
   "pygments_lexer": "ipython3",
   "version": "3.9.7"
  }
 },
 "nbformat": 4,
 "nbformat_minor": 4
}
