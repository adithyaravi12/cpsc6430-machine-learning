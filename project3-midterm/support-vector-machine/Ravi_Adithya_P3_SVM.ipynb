{
 "cells": [
  {
   "cell_type": "code",
   "execution_count": 24,
   "id": "545dc4ef",
   "metadata": {},
   "outputs": [],
   "source": [
    "import numpy as np\n",
    "import pandas as pd\n",
    "import matplotlib.pyplot as plt"
   ]
  },
  {
   "cell_type": "code",
   "execution_count": 25,
   "id": "fd1bc7e5",
   "metadata": {},
   "outputs": [
    {
     "name": "stdout",
     "output_type": "stream",
     "text": [
      "Enter the name of your training dataset file: P3train.txt\n"
     ]
    }
   ],
   "source": [
    "f = input(\"Enter the name of your training dataset file: \")\n",
    "f_in= open(f, \"r\")"
   ]
  },
  {
   "cell_type": "code",
   "execution_count": 26,
   "id": "7e966429",
   "metadata": {},
   "outputs": [],
   "source": [
    "df=pd.read_csv(f,delimiter='\\t', header=None, names=['Feature1','Feature2','Outcome'])"
   ]
  },
  {
   "cell_type": "code",
   "execution_count": 27,
   "id": "4e5d5c23",
   "metadata": {},
   "outputs": [],
   "source": [
    "df = df.iloc[1: , :]"
   ]
  },
  {
   "cell_type": "code",
   "execution_count": 28,
   "id": "126cd761",
   "metadata": {},
   "outputs": [
    {
     "data": {
      "text/html": [
       "<div>\n",
       "<style scoped>\n",
       "    .dataframe tbody tr th:only-of-type {\n",
       "        vertical-align: middle;\n",
       "    }\n",
       "\n",
       "    .dataframe tbody tr th {\n",
       "        vertical-align: top;\n",
       "    }\n",
       "\n",
       "    .dataframe thead th {\n",
       "        text-align: right;\n",
       "    }\n",
       "</style>\n",
       "<table border=\"1\" class=\"dataframe\">\n",
       "  <thead>\n",
       "    <tr style=\"text-align: right;\">\n",
       "      <th></th>\n",
       "      <th>Feature1</th>\n",
       "      <th>Feature2</th>\n",
       "      <th>Outcome</th>\n",
       "    </tr>\n",
       "  </thead>\n",
       "  <tbody>\n",
       "    <tr>\n",
       "      <th>1</th>\n",
       "      <td>0.131910</td>\n",
       "      <td>-0.513890</td>\n",
       "      <td>1.0</td>\n",
       "    </tr>\n",
       "    <tr>\n",
       "      <th>2</th>\n",
       "      <td>0.298960</td>\n",
       "      <td>0.619150</td>\n",
       "      <td>0.0</td>\n",
       "    </tr>\n",
       "    <tr>\n",
       "      <th>3</th>\n",
       "      <td>0.137670</td>\n",
       "      <td>0.575290</td>\n",
       "      <td>1.0</td>\n",
       "    </tr>\n",
       "    <tr>\n",
       "      <th>4</th>\n",
       "      <td>0.823160</td>\n",
       "      <td>0.275580</td>\n",
       "      <td>0.0</td>\n",
       "    </tr>\n",
       "    <tr>\n",
       "      <th>5</th>\n",
       "      <td>0.592740</td>\n",
       "      <td>-0.740500</td>\n",
       "      <td>0.0</td>\n",
       "    </tr>\n",
       "    <tr>\n",
       "      <th>...</th>\n",
       "      <td>...</td>\n",
       "      <td>...</td>\n",
       "      <td>...</td>\n",
       "    </tr>\n",
       "    <tr>\n",
       "      <th>81</th>\n",
       "      <td>-0.593890</td>\n",
       "      <td>0.005117</td>\n",
       "      <td>1.0</td>\n",
       "    </tr>\n",
       "    <tr>\n",
       "      <th>82</th>\n",
       "      <td>0.632650</td>\n",
       "      <td>-0.030612</td>\n",
       "      <td>0.0</td>\n",
       "    </tr>\n",
       "    <tr>\n",
       "      <th>83</th>\n",
       "      <td>-0.046659</td>\n",
       "      <td>0.816520</td>\n",
       "      <td>1.0</td>\n",
       "    </tr>\n",
       "    <tr>\n",
       "      <th>84</th>\n",
       "      <td>-0.161870</td>\n",
       "      <td>0.801900</td>\n",
       "      <td>1.0</td>\n",
       "    </tr>\n",
       "    <tr>\n",
       "      <th>85</th>\n",
       "      <td>-0.006336</td>\n",
       "      <td>0.999270</td>\n",
       "      <td>0.0</td>\n",
       "    </tr>\n",
       "  </tbody>\n",
       "</table>\n",
       "<p>85 rows × 3 columns</p>\n",
       "</div>"
      ],
      "text/plain": [
       "    Feature1  Feature2  Outcome\n",
       "1   0.131910 -0.513890      1.0\n",
       "2   0.298960  0.619150      0.0\n",
       "3   0.137670  0.575290      1.0\n",
       "4   0.823160  0.275580      0.0\n",
       "5   0.592740 -0.740500      0.0\n",
       "..       ...       ...      ...\n",
       "81 -0.593890  0.005117      1.0\n",
       "82  0.632650 -0.030612      0.0\n",
       "83 -0.046659  0.816520      1.0\n",
       "84 -0.161870  0.801900      1.0\n",
       "85 -0.006336  0.999270      0.0\n",
       "\n",
       "[85 rows x 3 columns]"
      ]
     },
     "execution_count": 28,
     "metadata": {},
     "output_type": "execute_result"
    }
   ],
   "source": [
    "df"
   ]
  },
  {
   "cell_type": "code",
   "execution_count": 29,
   "id": "f7974f96",
   "metadata": {},
   "outputs": [],
   "source": [
    "X_train = df.iloc[:, :-1].values\n",
    "y_train = df.iloc[:, -1].values"
   ]
  },
  {
   "cell_type": "code",
   "execution_count": 30,
   "id": "73f59669",
   "metadata": {},
   "outputs": [],
   "source": [
    "f_in.close()"
   ]
  },
  {
   "cell_type": "code",
   "execution_count": 31,
   "id": "d76c4c1a",
   "metadata": {},
   "outputs": [
    {
     "name": "stdout",
     "output_type": "stream",
     "text": [
      "Enter the name of the testing dataset file:\tP3test.txt\n"
     ]
    }
   ],
   "source": [
    "f = input(\"Enter the name of the testing dataset file:\\t\")\n",
    "f_in = open(f,\"r\")"
   ]
  },
  {
   "cell_type": "code",
   "execution_count": 32,
   "id": "f51ab0df",
   "metadata": {},
   "outputs": [],
   "source": [
    "df=pd.read_csv(f,delimiter='\\t', header=None, names=['Feature1','Feature2','Outcome'])"
   ]
  },
  {
   "cell_type": "code",
   "execution_count": 33,
   "id": "5ba214b6",
   "metadata": {},
   "outputs": [],
   "source": [
    "df = df.iloc[1: , :]"
   ]
  },
  {
   "cell_type": "code",
   "execution_count": 34,
   "id": "6e0062bb",
   "metadata": {},
   "outputs": [
    {
     "data": {
      "text/html": [
       "<div>\n",
       "<style scoped>\n",
       "    .dataframe tbody tr th:only-of-type {\n",
       "        vertical-align: middle;\n",
       "    }\n",
       "\n",
       "    .dataframe tbody tr th {\n",
       "        vertical-align: top;\n",
       "    }\n",
       "\n",
       "    .dataframe thead th {\n",
       "        text-align: right;\n",
       "    }\n",
       "</style>\n",
       "<table border=\"1\" class=\"dataframe\">\n",
       "  <thead>\n",
       "    <tr style=\"text-align: right;\">\n",
       "      <th></th>\n",
       "      <th>Feature1</th>\n",
       "      <th>Feature2</th>\n",
       "      <th>Outcome</th>\n",
       "    </tr>\n",
       "  </thead>\n",
       "  <tbody>\n",
       "    <tr>\n",
       "      <th>1</th>\n",
       "      <td>0.350810</td>\n",
       "      <td>-0.579680</td>\n",
       "      <td>0.0</td>\n",
       "    </tr>\n",
       "    <tr>\n",
       "      <th>2</th>\n",
       "      <td>0.615780</td>\n",
       "      <td>0.728800</td>\n",
       "      <td>0.0</td>\n",
       "    </tr>\n",
       "    <tr>\n",
       "      <th>3</th>\n",
       "      <td>-0.115780</td>\n",
       "      <td>-0.396930</td>\n",
       "      <td>1.0</td>\n",
       "    </tr>\n",
       "    <tr>\n",
       "      <th>4</th>\n",
       "      <td>0.851960</td>\n",
       "      <td>-0.367690</td>\n",
       "      <td>0.0</td>\n",
       "    </tr>\n",
       "    <tr>\n",
       "      <th>5</th>\n",
       "      <td>-0.104260</td>\n",
       "      <td>0.991960</td>\n",
       "      <td>0.0</td>\n",
       "    </tr>\n",
       "    <tr>\n",
       "      <th>6</th>\n",
       "      <td>-0.150350</td>\n",
       "      <td>-0.367690</td>\n",
       "      <td>0.0</td>\n",
       "    </tr>\n",
       "    <tr>\n",
       "      <th>7</th>\n",
       "      <td>-0.236750</td>\n",
       "      <td>-0.214180</td>\n",
       "      <td>1.0</td>\n",
       "    </tr>\n",
       "    <tr>\n",
       "      <th>8</th>\n",
       "      <td>0.149190</td>\n",
       "      <td>-0.579680</td>\n",
       "      <td>0.0</td>\n",
       "    </tr>\n",
       "    <tr>\n",
       "      <th>9</th>\n",
       "      <td>0.517860</td>\n",
       "      <td>-0.594300</td>\n",
       "      <td>0.0</td>\n",
       "    </tr>\n",
       "    <tr>\n",
       "      <th>10</th>\n",
       "      <td>0.961410</td>\n",
       "      <td>0.085526</td>\n",
       "      <td>0.0</td>\n",
       "    </tr>\n",
       "    <tr>\n",
       "      <th>11</th>\n",
       "      <td>-0.213710</td>\n",
       "      <td>0.692250</td>\n",
       "      <td>1.0</td>\n",
       "    </tr>\n",
       "    <tr>\n",
       "      <th>12</th>\n",
       "      <td>0.322000</td>\n",
       "      <td>0.692250</td>\n",
       "      <td>1.0</td>\n",
       "    </tr>\n",
       "    <tr>\n",
       "      <th>13</th>\n",
       "      <td>0.166470</td>\n",
       "      <td>0.538740</td>\n",
       "      <td>1.0</td>\n",
       "    </tr>\n",
       "    <tr>\n",
       "      <th>14</th>\n",
       "      <td>0.644590</td>\n",
       "      <td>-0.141080</td>\n",
       "      <td>1.0</td>\n",
       "    </tr>\n",
       "    <tr>\n",
       "      <th>15</th>\n",
       "      <td>0.062788</td>\n",
       "      <td>-0.163010</td>\n",
       "      <td>1.0</td>\n",
       "    </tr>\n",
       "    <tr>\n",
       "      <th>16</th>\n",
       "      <td>-0.392280</td>\n",
       "      <td>-0.258040</td>\n",
       "      <td>0.0</td>\n",
       "    </tr>\n",
       "    <tr>\n",
       "      <th>17</th>\n",
       "      <td>0.183760</td>\n",
       "      <td>0.933480</td>\n",
       "      <td>0.0</td>\n",
       "    </tr>\n",
       "    <tr>\n",
       "      <th>18</th>\n",
       "      <td>-0.513250</td>\n",
       "      <td>0.465640</td>\n",
       "      <td>1.0</td>\n",
       "    </tr>\n",
       "    <tr>\n",
       "      <th>19</th>\n",
       "      <td>1.070900</td>\n",
       "      <td>0.100150</td>\n",
       "      <td>0.0</td>\n",
       "    </tr>\n",
       "    <tr>\n",
       "      <th>20</th>\n",
       "      <td>0.529380</td>\n",
       "      <td>-0.521200</td>\n",
       "      <td>1.0</td>\n",
       "    </tr>\n",
       "    <tr>\n",
       "      <th>21</th>\n",
       "      <td>-0.173390</td>\n",
       "      <td>0.699560</td>\n",
       "      <td>1.0</td>\n",
       "    </tr>\n",
       "    <tr>\n",
       "      <th>22</th>\n",
       "      <td>0.725230</td>\n",
       "      <td>0.443710</td>\n",
       "      <td>1.0</td>\n",
       "    </tr>\n",
       "    <tr>\n",
       "      <th>23</th>\n",
       "      <td>0.673390</td>\n",
       "      <td>0.641080</td>\n",
       "      <td>0.0</td>\n",
       "    </tr>\n",
       "    <tr>\n",
       "      <th>24</th>\n",
       "      <td>-0.726380</td>\n",
       "      <td>-0.082602</td>\n",
       "      <td>0.0</td>\n",
       "    </tr>\n",
       "    <tr>\n",
       "      <th>25</th>\n",
       "      <td>-0.830070</td>\n",
       "      <td>0.312130</td>\n",
       "      <td>0.0</td>\n",
       "    </tr>\n",
       "    <tr>\n",
       "      <th>26</th>\n",
       "      <td>-0.593890</td>\n",
       "      <td>0.494880</td>\n",
       "      <td>0.0</td>\n",
       "    </tr>\n",
       "    <tr>\n",
       "      <th>27</th>\n",
       "      <td>0.794350</td>\n",
       "      <td>-0.557750</td>\n",
       "      <td>0.0</td>\n",
       "    </tr>\n",
       "    <tr>\n",
       "      <th>28</th>\n",
       "      <td>-0.478690</td>\n",
       "      <td>0.633770</td>\n",
       "      <td>1.0</td>\n",
       "    </tr>\n",
       "    <tr>\n",
       "      <th>29</th>\n",
       "      <td>0.057028</td>\n",
       "      <td>0.918860</td>\n",
       "      <td>0.0</td>\n",
       "    </tr>\n",
       "    <tr>\n",
       "      <th>30</th>\n",
       "      <td>0.466010</td>\n",
       "      <td>-0.535820</td>\n",
       "      <td>1.0</td>\n",
       "    </tr>\n",
       "    <tr>\n",
       "      <th>31</th>\n",
       "      <td>-0.207950</td>\n",
       "      <td>0.355990</td>\n",
       "      <td>1.0</td>\n",
       "    </tr>\n",
       "    <tr>\n",
       "      <th>32</th>\n",
       "      <td>-0.305880</td>\n",
       "      <td>-0.192250</td>\n",
       "      <td>1.0</td>\n",
       "    </tr>\n",
       "    <tr>\n",
       "      <th>33</th>\n",
       "      <td>0.016705</td>\n",
       "      <td>-0.404240</td>\n",
       "      <td>1.0</td>\n",
       "    </tr>\n",
       "  </tbody>\n",
       "</table>\n",
       "</div>"
      ],
      "text/plain": [
       "    Feature1  Feature2  Outcome\n",
       "1   0.350810 -0.579680      0.0\n",
       "2   0.615780  0.728800      0.0\n",
       "3  -0.115780 -0.396930      1.0\n",
       "4   0.851960 -0.367690      0.0\n",
       "5  -0.104260  0.991960      0.0\n",
       "6  -0.150350 -0.367690      0.0\n",
       "7  -0.236750 -0.214180      1.0\n",
       "8   0.149190 -0.579680      0.0\n",
       "9   0.517860 -0.594300      0.0\n",
       "10  0.961410  0.085526      0.0\n",
       "11 -0.213710  0.692250      1.0\n",
       "12  0.322000  0.692250      1.0\n",
       "13  0.166470  0.538740      1.0\n",
       "14  0.644590 -0.141080      1.0\n",
       "15  0.062788 -0.163010      1.0\n",
       "16 -0.392280 -0.258040      0.0\n",
       "17  0.183760  0.933480      0.0\n",
       "18 -0.513250  0.465640      1.0\n",
       "19  1.070900  0.100150      0.0\n",
       "20  0.529380 -0.521200      1.0\n",
       "21 -0.173390  0.699560      1.0\n",
       "22  0.725230  0.443710      1.0\n",
       "23  0.673390  0.641080      0.0\n",
       "24 -0.726380 -0.082602      0.0\n",
       "25 -0.830070  0.312130      0.0\n",
       "26 -0.593890  0.494880      0.0\n",
       "27  0.794350 -0.557750      0.0\n",
       "28 -0.478690  0.633770      1.0\n",
       "29  0.057028  0.918860      0.0\n",
       "30  0.466010 -0.535820      1.0\n",
       "31 -0.207950  0.355990      1.0\n",
       "32 -0.305880 -0.192250      1.0\n",
       "33  0.016705 -0.404240      1.0"
      ]
     },
     "execution_count": 34,
     "metadata": {},
     "output_type": "execute_result"
    }
   ],
   "source": [
    "df"
   ]
  },
  {
   "cell_type": "code",
   "execution_count": 35,
   "id": "0090a717",
   "metadata": {},
   "outputs": [],
   "source": [
    "X_test = df.iloc[:, :-1].values\n",
    "y_test = df.iloc[:, -1].values"
   ]
  },
  {
   "cell_type": "code",
   "execution_count": 36,
   "id": "6fcf26c5",
   "metadata": {},
   "outputs": [
    {
     "name": "stdout",
     "output_type": "stream",
     "text": [
      "[[ 0.35081  -0.57968 ]\n",
      " [ 0.61578   0.7288  ]\n",
      " [-0.11578  -0.39693 ]\n",
      " [ 0.85196  -0.36769 ]\n",
      " [-0.10426   0.99196 ]\n",
      " [-0.15035  -0.36769 ]\n",
      " [-0.23675  -0.21418 ]\n",
      " [ 0.14919  -0.57968 ]\n",
      " [ 0.51786  -0.5943  ]\n",
      " [ 0.96141   0.085526]\n",
      " [-0.21371   0.69225 ]\n",
      " [ 0.322     0.69225 ]\n",
      " [ 0.16647   0.53874 ]\n",
      " [ 0.64459  -0.14108 ]\n",
      " [ 0.062788 -0.16301 ]\n",
      " [-0.39228  -0.25804 ]\n",
      " [ 0.18376   0.93348 ]\n",
      " [-0.51325   0.46564 ]\n",
      " [ 1.0709    0.10015 ]\n",
      " [ 0.52938  -0.5212  ]\n",
      " [-0.17339   0.69956 ]\n",
      " [ 0.72523   0.44371 ]\n",
      " [ 0.67339   0.64108 ]\n",
      " [-0.72638  -0.082602]\n",
      " [-0.83007   0.31213 ]\n",
      " [-0.59389   0.49488 ]\n",
      " [ 0.79435  -0.55775 ]\n",
      " [-0.47869   0.63377 ]\n",
      " [ 0.057028  0.91886 ]\n",
      " [ 0.46601  -0.53582 ]\n",
      " [-0.20795   0.35599 ]\n",
      " [-0.30588  -0.19225 ]\n",
      " [ 0.016705 -0.40424 ]]\n"
     ]
    }
   ],
   "source": [
    "print(X_test)"
   ]
  },
  {
   "cell_type": "code",
   "execution_count": 37,
   "id": "eca8ae9d",
   "metadata": {},
   "outputs": [
    {
     "name": "stdout",
     "output_type": "stream",
     "text": [
      "[0. 0. 1. 0. 0. 0. 1. 0. 0. 0. 1. 1. 1. 1. 1. 0. 0. 1. 0. 1. 1. 1. 0. 0.\n",
      " 0. 0. 0. 1. 0. 1. 1. 1. 1.]\n"
     ]
    }
   ],
   "source": [
    "print(y_test)"
   ]
  },
  {
   "cell_type": "code",
   "execution_count": 38,
   "id": "0f37355b",
   "metadata": {},
   "outputs": [],
   "source": [
    "from sklearn.preprocessing import StandardScaler\n",
    "sc = StandardScaler()\n",
    "X_train = sc.fit_transform(X_train)\n",
    "X_test = sc.transform(X_test)"
   ]
  },
  {
   "cell_type": "code",
   "execution_count": 39,
   "id": "399ef1d5",
   "metadata": {},
   "outputs": [
    {
     "data": {
      "text/plain": [
       "SVC(random_state=0)"
      ]
     },
     "execution_count": 39,
     "metadata": {},
     "output_type": "execute_result"
    }
   ],
   "source": [
    "from sklearn.svm import SVC\n",
    "classifier = SVC(kernel = 'rbf', random_state = 0)\n",
    "classifier.fit(X_train, y_train)"
   ]
  },
  {
   "cell_type": "markdown",
   "id": "4a2008cf",
   "metadata": {},
   "source": [
    "y_pred = classifier.predict(X_test)\n",
    "print(np.concatenate((y_pred.reshape(len(y_pred),1), y_test.reshape(len(y_test),1)),1))"
   ]
  },
  {
   "cell_type": "code",
   "execution_count": 51,
   "id": "853a8e1c",
   "metadata": {},
   "outputs": [
    {
     "name": "stdout",
     "output_type": "stream",
     "text": [
      "\n",
      "Test Data:\n",
      "\n",
      "Confusion Matrix:\n",
      "[[17  0]\n",
      " [ 5 11]]\n",
      "Accuracy for test set = 84 percent\n",
      "Precision for test set = 100 percent\n",
      "Recall for test set = 77 percent\n",
      "F1 for test set = 87 percent\n"
     ]
    }
   ],
   "source": [
    "from sklearn.metrics import confusion_matrix\n",
    "cm = confusion_matrix(y_test, y_pred)\n",
    "TP = cm[0,0]\n",
    "FP = cm[0,1]\n",
    "FN = cm[1,0]\n",
    "TN = cm[1,1]\n",
    "accuracy=((TP+TN)/(TP+TN+FP+FN))*100\n",
    "precision=(TP/(TP+FP))*100\n",
    "recall=(TP/(TP+FN))*100\n",
    "f1=2*(1/((1/precision)+(1/recall)))\n",
    "print('\\nTest Data:\\n')\n",
    "print(\"Confusion Matrix:\")\n",
    "print(cm)\n",
    "print('Accuracy for test set = %d percent' %accuracy)\n",
    "print('Precision for test set = %d percent' %precision)\n",
    "print('Recall for test set = %d percent' %recall)\n",
    "print('F1 for test set = %d percent' %f1)"
   ]
  },
  {
   "cell_type": "code",
   "execution_count": 42,
   "id": "766180cb",
   "metadata": {},
   "outputs": [
    {
     "name": "stderr",
     "output_type": "stream",
     "text": [
      "*c* argument looks like a single numeric RGB or RGBA sequence, which should be avoided as value-mapping will have precedence in case its length matches with *x* & *y*.  Please use the *color* keyword-argument or provide a 2D array with a single row if you intend to specify the same RGB or RGBA value for all points.\n",
      "*c* argument looks like a single numeric RGB or RGBA sequence, which should be avoided as value-mapping will have precedence in case its length matches with *x* & *y*.  Please use the *color* keyword-argument or provide a 2D array with a single row if you intend to specify the same RGB or RGBA value for all points.\n"
     ]
    },
    {
     "data": {
      "image/png": "[encoded data removed]",
      "text/plain": [
       "<Figure size 432x288 with 1 Axes>"
      ]
     },
     "metadata": {
      "needs_background": "light"
     },
     "output_type": "display_data"
    }
   ],
   "source": [
    "from matplotlib.colors import ListedColormap\n",
    "X_set, y_set = sc.inverse_transform(X_train), y_train\n",
    "X1, X2 = np.meshgrid(np.arange(start = X_set[:, 0].min() - 0.01, stop = X_set[:, 0].max() + 0.01, step = 0.1),\n",
    "                     np.arange(start = X_set[:, 1].min() - 0.01, stop = X_set[:, 1].max() + 0.01, step = 0.1))\n",
    "plt.contourf(X1, X2, classifier.predict(sc.transform(np.array([X1.ravel(), X2.ravel()]).T)).reshape(X1.shape),\n",
    "             alpha = 0.75, cmap = ListedColormap(('red', 'green')))\n",
    "plt.xlim(X1.min(), X1.max())\n",
    "plt.ylim(X2.min(), X2.max())\n",
    "for i, j in enumerate(np.unique(y_set)):\n",
    "    plt.scatter(X_set[y_set == j, 0], X_set[y_set == j, 1], c = ListedColormap(('red', 'green'))(i), label = j)\n",
    "plt.title('Kernel SVM (Training set)')\n",
    "plt.xlabel('Feature1')\n",
    "plt.ylabel('Feature2')\n",
    "plt.legend()\n",
    "plt.show()"
   ]
  },
  {
   "cell_type": "code",
   "execution_count": 43,
   "id": "474dd37c",
   "metadata": {},
   "outputs": [
    {
     "name": "stderr",
     "output_type": "stream",
     "text": [
      "*c* argument looks like a single numeric RGB or RGBA sequence, which should be avoided as value-mapping will have precedence in case its length matches with *x* & *y*.  Please use the *color* keyword-argument or provide a 2D array with a single row if you intend to specify the same RGB or RGBA value for all points.\n",
      "*c* argument looks like a single numeric RGB or RGBA sequence, which should be avoided as value-mapping will have precedence in case its length matches with *x* & *y*.  Please use the *color* keyword-argument or provide a 2D array with a single row if you intend to specify the same RGB or RGBA value for all points.\n"
     ]
    },
    {
     "data": {
      "image/png": "[encoded data removed]",
      "text/plain": [
       "<Figure size 432x288 with 1 Axes>"
      ]
     },
     "metadata": {
      "needs_background": "light"
     },
     "output_type": "display_data"
    }
   ],
   "source": [
    "from matplotlib.colors import ListedColormap\n",
    "X_set, y_set = sc.inverse_transform(X_test), y_test\n",
    "X1, X2 = np.meshgrid(np.arange(start = X_set[:, 0].min() - 0.01, stop = X_set[:, 0].max() + 0.01, step = 0.1),\n",
    "                     np.arange(start = X_set[:, 1].min() - 0.01, stop = X_set[:, 1].max() + 0.01, step = 0.1))\n",
    "plt.contourf(X1, X2, classifier.predict(sc.transform(np.array([X1.ravel(), X2.ravel()]).T)).reshape(X1.shape),\n",
    "             alpha = 0.75, cmap = ListedColormap(('red', 'green')))\n",
    "plt.xlim(X1.min(), X1.max())\n",
    "plt.ylim(X2.min(), X2.max())\n",
    "for i, j in enumerate(np.unique(y_set)):\n",
    "    plt.scatter(X_set[y_set == j, 0], X_set[y_set == j, 1], c = ListedColormap(('red', 'green'))(i), label = j)\n",
    "plt.title('Kernel SVM (Test set)')\n",
    "plt.xlabel('Feature1')\n",
    "plt.ylabel('Feature2')\n",
    "plt.legend()\n",
    "plt.show()"
   ]
  },
  {
   "cell_type": "code",
   "execution_count": null,
   "id": "63d286a9",
   "metadata": {},
   "outputs": [],
   "source": []
  },
  {
   "cell_type": "code",
   "execution_count": null,
   "id": "e362371e",
   "metadata": {},
   "outputs": [],
   "source": []
  }
 ],
 "metadata": {
  "kernelspec": {
   "display_name": "Python 3 (ipykernel)",
   "language": "python",
   "name": "python3"
  },
  "language_info": {
   "codemirror_mode": {
    "name": "ipython",
    "version": 3
   },
   "file_extension": ".py",
   "mimetype": "text/x-python",
   "name": "python",
   "nbconvert_exporter": "python",
   "pygments_lexer": "ipython3",
   "version": "3.9.7"
  }
 },
 "nbformat": 4,
 "nbformat_minor": 5
}
