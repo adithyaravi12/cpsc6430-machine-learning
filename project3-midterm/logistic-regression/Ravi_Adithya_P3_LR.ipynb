{
 "cells": [
  {
   "cell_type": "code",
   "execution_count": 1,
   "id": "652025db",
   "metadata": {},
   "outputs": [],
   "source": [
    "import numpy as np\n",
    "import pandas as pd\n",
    "import matplotlib.pyplot as plt"
   ]
  },
  {
   "cell_type": "code",
   "execution_count": 2,
   "id": "eb511029",
   "metadata": {},
   "outputs": [
    {
     "name": "stdout",
     "output_type": "stream",
     "text": [
      "Enter the name of your train file: P3train.txt\n"
     ]
    }
   ],
   "source": [
    "f = input(\"Enter the name of your train file: \")\n",
    "f_in= open(f, \"r\")"
   ]
  },
  {
   "cell_type": "code",
   "execution_count": 3,
   "id": "cdf37f80",
   "metadata": {},
   "outputs": [],
   "source": [
    "s = f_in.readline()\n",
    "d = s.split(\"\\t\")\n",
    "rows = int(d[0])\n",
    "columns = int(d[1])+1"
   ]
  },
  {
   "cell_type": "code",
   "execution_count": 5,
   "id": "0a3c13b5",
   "metadata": {},
   "outputs": [],
   "source": [
    "data = np.zeros([rows, columns])"
   ]
  },
  {
   "cell_type": "code",
   "execution_count": 6,
   "id": "ee025e28",
   "metadata": {},
   "outputs": [],
   "source": [
    "for k in range(rows):\n",
    "    s = f_in.readline()\n",
    "    t = s.split(\"\\t\")\n",
    "    #t[-1]=t[-1].strip()    \n",
    "    for j in range(columns):\n",
    "        data[k,j]= float(t[j])\n",
    "    #print(data[k,j])\n",
    "#print(data[k])"
   ]
  },
  {
   "cell_type": "code",
   "execution_count": 7,
   "id": "8ed3284b",
   "metadata": {},
   "outputs": [],
   "source": [
    "f_in.close()"
   ]
  },
  {
   "cell_type": "code",
   "execution_count": 8,
   "id": "954f1aa9",
   "metadata": {},
   "outputs": [],
   "source": [
    "f_out = open('P3train1.txt', \"w\")"
   ]
  },
  {
   "cell_type": "code",
   "execution_count": 9,
   "id": "0156bf04",
   "metadata": {},
   "outputs": [],
   "source": [
    "#for loop to increase the number of features\n",
    "thePower = 2\n",
    "for a in range(rows):\n",
    "    x1=data[a][0]\n",
    "    x2=data[a][1]\n",
    "    y=data[a][2]\n",
    "    for j in range(thePower+1):\n",
    "        for i in range(thePower+1):\n",
    "            temp = (x1**i)*(x2**j)\n",
    "            if (temp != 1):\n",
    "                f_out.write(str(temp)+\"\\t\")\n",
    "    f_out.write(str(y)+\"\\n\")\n",
    "f_out.close()"
   ]
  },
  {
   "cell_type": "code",
   "execution_count": 10,
   "id": "a99246d1",
   "metadata": {},
   "outputs": [],
   "source": [
    "f_in= open('P3train1.txt', \"r\")\n",
    "s = f_in.readline()\n",
    "d=s.split(\"\\t\")\n",
    "columns = columns+6\n",
    "data1 = np.zeros([rows, columns])"
   ]
  },
  {
   "cell_type": "code",
   "execution_count": 11,
   "id": "dbf83a63",
   "metadata": {},
   "outputs": [],
   "source": [
    "#print(columns)\n",
    "#print(data1.shape)"
   ]
  },
  {
   "cell_type": "code",
   "execution_count": 12,
   "id": "a5c48544",
   "metadata": {},
   "outputs": [
    {
     "name": "stdout",
     "output_type": "stream",
     "text": [
      "(85, 9)\n"
     ]
    }
   ],
   "source": [
    "'''for k in range(rows):\n",
    "    s = f_in.readline()\n",
    "    #t = s.split(\"\\t\")\n",
    "    t = list(map(float,s.split('\\t')))\n",
    "    #t[-1]=t[-1].strip()    \n",
    "    for j in range(columns):\n",
    "        data1[k,j]= float(t[j])\n",
    "    #print(data[k,j])\n",
    "#print(data[k])'''\n",
    "\n",
    "for k in range(rows-1):\n",
    "    s = f_in.readline()\n",
    "    t = s.split(\"\\t\")\n",
    "    #t[-1]=t[-1].strip()    \n",
    "    for j in range(columns):\n",
    "        data1[k,j]= float(t[j])\n",
    "        #print(\"k =\", k)\n",
    "        #print(\"J =\", j)\n",
    "    #print(data[k,j])\n",
    "#print(data[k])\n",
    "\n",
    "data1[84,0] = -0.0063364\n",
    "data1[84,1] = 4.014996496e-05\n",
    "data1[84,2] = 0.99927\n",
    "data1[84,3] = -0.006331774428\n",
    "data1[84,4] = 4.0120655485579195e-05\n",
    "data1[84,5] = 0.9985405329\n",
    "data1[84,6] = -0.00632715223266756\n",
    "data1[84,7] = 4.009136740707473e-05\n",
    "data1[84,8] = 0.0\n",
    "\n",
    "print(data1.shape)"
   ]
  },
  {
   "cell_type": "code",
   "execution_count": 13,
   "id": "8f9757d7",
   "metadata": {},
   "outputs": [],
   "source": [
    "f_in.close()"
   ]
  },
  {
   "cell_type": "code",
   "execution_count": 45,
   "id": "2bf4f3d7",
   "metadata": {},
   "outputs": [],
   "source": [
    "df = pd.DataFrame(data1, columns =['x1','x2','x3','x4','x5','x6','x7','x8','y'])\n",
    "#print(df)\n",
    "TX = df.iloc[:,:8]\n",
    "TY = df.iloc[:,8:]"
   ]
  },
  {
   "cell_type": "code",
   "execution_count": 15,
   "id": "c3d9e8dc",
   "metadata": {},
   "outputs": [],
   "source": [
    "X_train = TX.values\n",
    "Y_train = TY.values\n",
    "X_train = X_train.T\n",
    "Y_train = Y_train.reshape(1, X_train.shape[1]) "
   ]
  },
  {
   "cell_type": "code",
   "execution_count": 18,
   "id": "bfb5c2a2",
   "metadata": {},
   "outputs": [
    {
     "name": "stdout",
     "output_type": "stream",
     "text": [
      "Enter the name of your test file: P3test.txt\n"
     ]
    }
   ],
   "source": [
    "file = input(\"Enter the name of your test file: \")\n",
    "f_in= open(file, \"r\")"
   ]
  },
  {
   "cell_type": "code",
   "execution_count": 19,
   "id": "33215d52",
   "metadata": {},
   "outputs": [],
   "source": [
    "s = f_in.readline()\n",
    "d = s.split(\"\\t\")\n",
    "rows = int(d[0])\n",
    "columns = int(d[1])+1"
   ]
  },
  {
   "cell_type": "code",
   "execution_count": 20,
   "id": "26cceda1",
   "metadata": {},
   "outputs": [],
   "source": [
    "data = np.zeros([rows, columns])"
   ]
  },
  {
   "cell_type": "code",
   "execution_count": 21,
   "id": "83c264ed",
   "metadata": {},
   "outputs": [],
   "source": [
    "for k in range(rows):\n",
    "    s = f_in.readline()\n",
    "    t = s.split(\"\\t\")\n",
    "    t[-1]=t[-1].strip()\n",
    "        \n",
    "    for j in range(columns):\n",
    "        data[k,j]= float(t[j])"
   ]
  },
  {
   "cell_type": "code",
   "execution_count": 22,
   "id": "d5aaa6dc",
   "metadata": {},
   "outputs": [],
   "source": [
    "f_in.close()"
   ]
  },
  {
   "cell_type": "code",
   "execution_count": 23,
   "id": "3b192062",
   "metadata": {},
   "outputs": [],
   "source": [
    "f_out = open('P3test1.txt', \"w\")"
   ]
  },
  {
   "cell_type": "code",
   "execution_count": 24,
   "id": "83eabde7",
   "metadata": {},
   "outputs": [],
   "source": [
    "#for loop to increase the number of features\n",
    "thePower = 2 \n",
    "for a in range(rows):\n",
    "    x1=data[a][0]\n",
    "    x2=data[a][1]\n",
    "    y=data[a][2]\n",
    "    for j in range(thePower+1):\n",
    "        for i in range(thePower+1):\n",
    "            temp = (x1**i)*(x2**j)\n",
    "            if (temp != 1):\n",
    "                f_out.write(str(temp)+\"\\t\")\n",
    "    f_out.write(str(y)+\"\\n\")\n",
    "f_out.close()"
   ]
  },
  {
   "cell_type": "code",
   "execution_count": 25,
   "id": "15d46951",
   "metadata": {},
   "outputs": [],
   "source": [
    "f_in= open('P3test1.txt', \"r\")"
   ]
  },
  {
   "cell_type": "code",
   "execution_count": 26,
   "id": "79831cc1",
   "metadata": {},
   "outputs": [],
   "source": [
    "s = f_in.readline()\n",
    "d = s.split(\"\\t\")\n",
    "columns = columns+6\n",
    "data2= np.zeros([rows, columns])"
   ]
  },
  {
   "cell_type": "code",
   "execution_count": 27,
   "id": "eefcfd3e",
   "metadata": {},
   "outputs": [],
   "source": [
    "for k in range(rows-1):\n",
    "    s2 = f_in.readline()\n",
    "    t1 = s2.split(\"\\t\")\n",
    "    t1[-1]=t1[-1].strip()\n",
    "    #print(t1)       \n",
    "    for j in range(columns):\n",
    "        data2[k,j] = float(t1[j])\n",
    "        \n",
    "#print(data2)\n",
    "#print(data2.shape)"
   ]
  },
  {
   "cell_type": "code",
   "execution_count": 28,
   "id": "f7fa8264",
   "metadata": {},
   "outputs": [],
   "source": [
    "f_in.close()"
   ]
  },
  {
   "cell_type": "code",
   "execution_count": 29,
   "id": "f7c42b27",
   "metadata": {},
   "outputs": [],
   "source": [
    "dt = pd.DataFrame(data2, columns =['x1','x2','x3','x4','x5','x6','x7','x8','y'])\n",
    "#print(dt)\n",
    "X= dt.iloc[:,:8]\n",
    "Y= dt.iloc[:,8:]"
   ]
  },
  {
   "cell_type": "code",
   "execution_count": 30,
   "id": "4739bde0",
   "metadata": {},
   "outputs": [],
   "source": [
    "X_test = X.values\n",
    "Y_test = Y.values\n",
    "X_test = X_test.T\n",
    "Y_test = Y_test.reshape(1, X_test.shape[1])"
   ]
  },
  {
   "cell_type": "code",
   "execution_count": 31,
   "id": "8707042c",
   "metadata": {},
   "outputs": [
    {
     "name": "stdout",
     "output_type": "stream",
     "text": [
      "Shape of X_train is  (8, 85)\n",
      "Shape of Y_train is  (1, 85)\n",
      "Shape of X_test is  (8, 33)\n",
      "Shape of Y_test is  (1, 33)\n"
     ]
    }
   ],
   "source": [
    "print(\"Shape of X_train is \",X_train.shape)\n",
    "print(\"Shape of Y_train is \",Y_train.shape)\n",
    "print(\"Shape of X_test is \",X_test.shape)\n",
    "print(\"Shape of Y_test is \",Y_test.shape)"
   ]
  },
  {
   "cell_type": "code",
   "execution_count": 32,
   "id": "38a27b5d",
   "metadata": {},
   "outputs": [],
   "source": [
    "def sigmoid_fn(x):\n",
    "    return 1/(1 + np.exp(-x))"
   ]
  },
  {
   "cell_type": "code",
   "execution_count": 33,
   "id": "9b9f69df",
   "metadata": {},
   "outputs": [],
   "source": [
    "def log_model(X, Y, learning_rate, iterations):\n",
    "    m = X_train.shape[1]\n",
    "    n = X_train.shape[0]\n",
    "    \n",
    "    W = np.zeros((n,1))\n",
    "    B = 0\n",
    "    \n",
    "    cost_list = []\n",
    "    for i in range(iterations):\n",
    "        \n",
    "        Z = np.dot(W.T, X) + B\n",
    "        A = sigmoid_fn(Z)\n",
    "        \n",
    "        cost = -(1/m)*np.sum( Y*np.log(A) + (1-Y)*np.log(1-A))\n",
    "        dW = (1/m)*np.dot(A-Y, X.T)\n",
    "        dB = (1/m)*np.sum(A - Y)\n",
    "        \n",
    "        W = W - learning_rate*dW.T\n",
    "        B = B - learning_rate*dB\n",
    "        \n",
    "        cost_list.append(cost)\n",
    "        \n",
    "        if(i%(iterations/10) == 0):\n",
    "            print(\"cost after\",i, \"iteration is : \",cost)\n",
    "    return W, B, cost_list"
   ]
  },
  {
   "cell_type": "code",
   "execution_count": 34,
   "id": "e0b4e96d",
   "metadata": {},
   "outputs": [
    {
     "name": "stdout",
     "output_type": "stream",
     "text": [
      "cost after 0 iteration is :  0.6931471805599454\n",
      "cost after 2500 iteration is :  0.3950999884286309\n",
      "cost after 5000 iteration is :  0.36477706446421865\n",
      "cost after 7500 iteration is :  0.3551674305823984\n",
      "cost after 10000 iteration is :  0.3509163258575192\n",
      "cost after 12500 iteration is :  0.34867706401580817\n",
      "cost after 15000 iteration is :  0.3473617385136028\n",
      "cost after 17500 iteration is :  0.3465306592189422\n",
      "cost after 20000 iteration is :  0.34597831253648814\n",
      "cost after 22500 iteration is :  0.3455977501614133\n"
     ]
    }
   ],
   "source": [
    "iteration = 25000\n",
    "alpha =  0.15\n",
    "W, B, cost_list = log_model(X_train, Y_train, alpha, iteration)"
   ]
  },
  {
   "cell_type": "code",
   "execution_count": 35,
   "id": "3d231d11",
   "metadata": {},
   "outputs": [
    {
     "data": {
      "text/plain": [
       "[<matplotlib.lines.Line2D at 0x12b1370fcd0>]"
      ]
     },
     "execution_count": 35,
     "metadata": {},
     "output_type": "execute_result"
    },
    {
     "data": {
      "image/png": "[encoded data removed]",
      "text/plain": [
       "<Figure size 432x288 with 1 Axes>"
      ]
     },
     "metadata": {
      "needs_background": "light"
     },
     "output_type": "display_data"
    }
   ],
   "source": [
    "plt.plot(np.arange(iteration),cost_list)"
   ]
  },
  {
   "cell_type": "code",
   "execution_count": 36,
   "id": "25b2dc43",
   "metadata": {},
   "outputs": [
    {
     "name": "stdout",
     "output_type": "stream",
     "text": [
      "[[  2.07834063]\n",
      " [-10.73567469]\n",
      " [  3.7435557 ]\n",
      " [ -8.32357438]\n",
      " [ -0.99468771]\n",
      " [-10.17715364]\n",
      " [  3.01604057]\n",
      " [ -2.00994744]]\n"
     ]
    }
   ],
   "source": [
    "print(W)\n",
    "Z = np.dot(W.T, X_test) + B\n",
    "A = sigmoid_fn(Z)\n",
    "m = X_test.shape[1]\n",
    "n = X_test.shape[0]"
   ]
  },
  {
   "cell_type": "code",
   "execution_count": 37,
   "id": "baada677",
   "metadata": {},
   "outputs": [
    {
     "name": "stdout",
     "output_type": "stream",
     "text": [
      "J value is  0.48146643176337556\n"
     ]
    }
   ],
   "source": [
    "cost = -(1/m)*np.sum( Y_test*np.log(A) + (1-Y_test)*np.log(1-A))\n",
    "print('J value is ',cost)"
   ]
  },
  {
   "cell_type": "code",
   "execution_count": 38,
   "id": "34d01c9b",
   "metadata": {},
   "outputs": [],
   "source": [
    "A = A > 0.5\n",
    "A = np.array(A, dtype = 'int64')\n",
    "A = A.T\n",
    "Y_test=Y_test.T"
   ]
  },
  {
   "cell_type": "code",
   "execution_count": 39,
   "id": "6e2c0989",
   "metadata": {},
   "outputs": [],
   "source": [
    "#for loop to calculate the values of TN,TP,FN,FP\n",
    "TP=TN=FP=FN=0\n",
    "for i in range(rows):\n",
    "    if(Y_test[i]==0 and A[i]==1):\n",
    "        FP+=1\n",
    "    if(Y_test[i]==1 and A[i]==0):\n",
    "        FN+=1\n",
    "    if(Y_test[i]==1 and A[i]==1):\n",
    "        TP+=1\n",
    "    if(Y_test[i]==0 and A[i]==0):\n",
    "        TN+=1"
   ]
  },
  {
   "cell_type": "code",
   "execution_count": 43,
   "id": "addcdf8e",
   "metadata": {},
   "outputs": [
    {
     "name": "stdout",
     "output_type": "stream",
     "text": [
      "\n",
      "Test Data:\n",
      "\n",
      "Confusion Matrix:\n",
      "FP=3 FN=1 TP=15 TN=14\n",
      "Accuracy for test set = 87 percent\n",
      "Precision for test set = 83 percent\n",
      "Recall for test set = 93 percent\n",
      "F1 for test set = 88 percent\n"
     ]
    }
   ],
   "source": [
    "print('\\nTest Data:\\n')\n",
    "print(\"Confusion Matrix:\")\n",
    "print('FP=%d FN=%d TP=%d TN=%d'%(FP, FN, TP, TN))\n",
    "accuracy=((TP+TN)/(TP+TN+FP+FN))*100\n",
    "precision=(TP/(TP+FP))*100\n",
    "recall=(TP/(TP+FN))*100\n",
    "f1=2*(1/((1/precision)+(1/recall)))\n",
    "print('Accuracy for test set = %d percent' %accuracy)\n",
    "print('Precision for test set = %d percent' %precision)\n",
    "print('Recall for test set = %d percent' %recall)\n",
    "print('F1 for test set = %d percent' %f1)\n",
    "#print('Expected class ',Y_test[i],' Predicted class ', A[i])"
   ]
  },
  {
   "cell_type": "code",
   "execution_count": null,
   "id": "713d9a6f",
   "metadata": {},
   "outputs": [],
   "source": []
  },
  {
   "cell_type": "code",
   "execution_count": null,
   "id": "1cc62d0e",
   "metadata": {},
   "outputs": [],
   "source": []
  }
 ],
 "metadata": {
  "kernelspec": {
   "display_name": "Python 3 (ipykernel)",
   "language": "python",
   "name": "python3"
  },
  "language_info": {
   "codemirror_mode": {
    "name": "ipython",
    "version": 3
   },
   "file_extension": ".py",
   "mimetype": "text/x-python",
   "name": "python",
   "nbconvert_exporter": "python",
   "pygments_lexer": "ipython3",
   "version": "3.9.7"
  }
 },
 "nbformat": 4,
 "nbformat_minor": 5
}
